{
 "cells": [
  {
   "cell_type": "code",
   "execution_count": 1,
   "metadata": {
    "collapsed": true
   },
   "outputs": [],
   "source": [
    "import pandas as pd\n"
   ]
  },
  {
   "cell_type": "code",
   "execution_count": 2,
   "metadata": {
    "collapsed": true
   },
   "outputs": [],
   "source": [
    "class agent(object):\n",
    "    \n",
    "    def __init__(self, name):\n",
    "        self.name = name\n",
    "        self.food = 10\n",
    "        self.gold = 100\n",
    "        self.health = 10\n",
    "        self.hunger = 0\n",
    "        self.status = \"alive\"\n",
    "        \n",
    "    def check_health(self):\n",
    "        if self.health < 0:\n",
    "            self.status = \"dead\"\n",
    "    \n",
    "    def hunger_pains(self):\n",
    "        if self.hunger > 5:\n",
    "            self.health -= int(self.hunger/2)\n",
    "            \n",
    "    def eat_food(self):\n",
    "        eaten = 0\n",
    "        if self.food >= self.hunger:\n",
    "            eaten = self.hunger\n",
    "            self.food -= self.hunger\n",
    "            self.hunger = 0\n",
    "            \n",
    "        else:\n",
    "            eaten = self.food\n",
    "            self.hunger -= self.food\n",
    "            self.food -= self.food\n",
    "            \n",
    "        print self.name, \"ate \", eaten, \"units of food\"\n",
    "        \n",
    "    def buy_food(self, food_amt, price, source):\n",
    "        self.food += food_amt\n",
    "        self.gold -= food_amt * price\n",
    "        source.food -= food_amt\n",
    "        \n",
    "    def check_price(self, good):\n",
    "        pass\n",
    "    \n",
    "    def status(self):\n",
    "        print \"hunger:\", self.hunger\n",
    "        print \"food:\", self.food\n",
    "        print \"gold:\", self.gold\n",
    "        print \"health:\", self.health"
   ]
  },
  {
   "cell_type": "code",
   "execution_count": 14,
   "metadata": {
    "collapsed": false
   },
   "outputs": [],
   "source": [
    "class area(object):\n",
    "    \n",
    "    def __init__(self, name, area_type):\n",
    "\n",
    "        self.name = name\n",
    "        self.food = 100\n",
    "        self.food_production = 1\n",
    "        self.day = 0\n",
    "        self.area_type = area_type\n",
    "\n",
    "    def pass_day(self):\n",
    "        print \"\\n\\nnew day: \", self.day,\"\\n\", \"*\"*15\n",
    "        #move the day counter by 1\n",
    "        #if day%14==0 then produce food\n",
    "        \n",
    "        for agent in env.agents:\n",
    "            agent.hunger +=1\n",
    "            if agent.food > 0 and agent.hunger >0:\n",
    "                agent.eat_food()\n",
    "            agent.hunger_pains()\n",
    "        self.day +=1\n",
    "        if self.day > 360: #reset day to 0 if day > 360\n",
    "            self.day = 1\n",
    "        #set seasons\n",
    "        \n",
    "    def set_season(self):\n",
    "        pass\n",
    "    \n",
    "    \n"
   ]
  },
  {
   "cell_type": "code",
   "execution_count": 15,
   "metadata": {
    "collapsed": false
   },
   "outputs": [],
   "source": [
    "class engine(object):\n",
    "    \n",
    "    def __init__(self, population):\n",
    "        self.population = population\n",
    "        self.agents = {}\n",
    "        \n",
    "    def make_agents(self):\n",
    "        for pop in range(self.population):\n",
    "            print \"making agent,\", pop\n",
    "            self.agents[agent] = agent(str(agent))\n",
    "            \n",
    "    def setup(self):\n",
    "        self.make_agents()"
   ]
  },
  {
   "cell_type": "code",
   "execution_count": 16,
   "metadata": {
    "collapsed": false
   },
   "outputs": [
    {
     "name": "stdout",
     "output_type": "stream",
     "text": [
      "making agent, 0\n"
     ]
    }
   ],
   "source": [
    "terra = area(\"terra\", \"village\")\n",
    "env = engine(1)\n",
    "env.setup()\n",
    "\n"
   ]
  },
  {
   "cell_type": "code",
   "execution_count": 17,
   "metadata": {
    "collapsed": false
   },
   "outputs": [
    {
     "name": "stdout",
     "output_type": "stream",
     "text": [
      "1\n"
     ]
    }
   ],
   "source": [
    "print env.population\n",
    "\n"
   ]
  },
  {
   "cell_type": "code",
   "execution_count": 18,
   "metadata": {
    "collapsed": false
   },
   "outputs": [
    {
     "name": "stdout",
     "output_type": "stream",
     "text": [
      "\n",
      "\n",
      "new day:  0 \n",
      "***************\n"
     ]
    },
    {
     "ename": "AttributeError",
     "evalue": "type object 'agent' has no attribute 'hunger'",
     "output_type": "error",
     "traceback": [
      "\u001b[0;31m---------------------------------------------------------------------------\u001b[0m",
      "\u001b[0;31mAttributeError\u001b[0m                            Traceback (most recent call last)",
      "\u001b[0;32m<ipython-input-18-022133dbca97>\u001b[0m in \u001b[0;36m<module>\u001b[0;34m()\u001b[0m\n\u001b[1;32m      1\u001b[0m \u001b[0;32mfor\u001b[0m \u001b[0mi\u001b[0m \u001b[0;32min\u001b[0m \u001b[0mrange\u001b[0m\u001b[0;34m(\u001b[0m\u001b[0;36m20\u001b[0m\u001b[0;34m)\u001b[0m\u001b[0;34m:\u001b[0m\u001b[0;34m\u001b[0m\u001b[0m\n\u001b[0;32m----> 2\u001b[0;31m     \u001b[0mterra\u001b[0m\u001b[0;34m.\u001b[0m\u001b[0mpass_day\u001b[0m\u001b[0;34m(\u001b[0m\u001b[0;34m)\u001b[0m\u001b[0;34m\u001b[0m\u001b[0m\n\u001b[0m\u001b[1;32m      3\u001b[0m     \u001b[0;32mfor\u001b[0m \u001b[0magent\u001b[0m \u001b[0;32min\u001b[0m \u001b[0menv\u001b[0m\u001b[0;34m.\u001b[0m\u001b[0magents\u001b[0m\u001b[0;34m:\u001b[0m\u001b[0;34m\u001b[0m\u001b[0m\n\u001b[1;32m      4\u001b[0m         \u001b[0;32mprint\u001b[0m \u001b[0magent\u001b[0m\u001b[0;34m.\u001b[0m\u001b[0mstatus\u001b[0m\u001b[0;34m\u001b[0m\u001b[0m\n",
      "\u001b[0;32m<ipython-input-14-aec584b15ec4>\u001b[0m in \u001b[0;36mpass_day\u001b[0;34m(self)\u001b[0m\n\u001b[1;32m     15\u001b[0m \u001b[0;34m\u001b[0m\u001b[0m\n\u001b[1;32m     16\u001b[0m         \u001b[0;32mfor\u001b[0m \u001b[0magent\u001b[0m \u001b[0;32min\u001b[0m \u001b[0menv\u001b[0m\u001b[0;34m.\u001b[0m\u001b[0magents\u001b[0m\u001b[0;34m:\u001b[0m\u001b[0;34m\u001b[0m\u001b[0m\n\u001b[0;32m---> 17\u001b[0;31m             \u001b[0magent\u001b[0m\u001b[0;34m.\u001b[0m\u001b[0mhunger\u001b[0m \u001b[0;34m+=\u001b[0m\u001b[0;36m1\u001b[0m\u001b[0;34m\u001b[0m\u001b[0m\n\u001b[0m\u001b[1;32m     18\u001b[0m             \u001b[0;32mif\u001b[0m \u001b[0magent\u001b[0m\u001b[0;34m.\u001b[0m\u001b[0mfood\u001b[0m \u001b[0;34m>\u001b[0m \u001b[0;36m0\u001b[0m \u001b[0;32mand\u001b[0m \u001b[0magent\u001b[0m\u001b[0;34m.\u001b[0m\u001b[0mhunger\u001b[0m \u001b[0;34m>\u001b[0m\u001b[0;36m0\u001b[0m\u001b[0;34m:\u001b[0m\u001b[0;34m\u001b[0m\u001b[0m\n\u001b[1;32m     19\u001b[0m                 \u001b[0magent\u001b[0m\u001b[0;34m.\u001b[0m\u001b[0meat_food\u001b[0m\u001b[0;34m(\u001b[0m\u001b[0;34m)\u001b[0m\u001b[0;34m\u001b[0m\u001b[0m\n",
      "\u001b[0;31mAttributeError\u001b[0m: type object 'agent' has no attribute 'hunger'"
     ]
    }
   ],
   "source": [
    "for i in range(20):\n",
    "    terra.pass_day()\n",
    "    for agent in env.agents:\n",
    "        print agent.status"
   ]
  },
  {
   "cell_type": "code",
   "execution_count": null,
   "metadata": {
    "collapsed": false
   },
   "outputs": [],
   "source": [
    "bill.status()"
   ]
  },
  {
   "cell_type": "code",
   "execution_count": null,
   "metadata": {
    "collapsed": false
   },
   "outputs": [],
   "source": []
  },
  {
   "cell_type": "code",
   "execution_count": null,
   "metadata": {
    "collapsed": true
   },
   "outputs": [],
   "source": []
  }
 ],
 "metadata": {
  "kernelspec": {
   "display_name": "Python 2",
   "language": "python",
   "name": "python2"
  },
  "language_info": {
   "codemirror_mode": {
    "name": "ipython",
    "version": 2
   },
   "file_extension": ".py",
   "mimetype": "text/x-python",
   "name": "python",
   "nbconvert_exporter": "python",
   "pygments_lexer": "ipython2",
   "version": "2.7.10"
  }
 },
 "nbformat": 4,
 "nbformat_minor": 2
}
