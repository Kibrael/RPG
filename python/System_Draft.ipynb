{
 "cells": [
  {
   "cell_type": "code",
   "execution_count": 14,
   "metadata": {},
   "outputs": [],
   "source": [
    "import pandas as pd\n",
    "import random\n",
    "import statistics \n",
    "\n",
    "from lib.DiceEngine import diceEngine"
   ]
  },
  {
   "cell_type": "code",
   "execution_count": 15,
   "metadata": {},
   "outputs": [
    {
     "data": {
      "text/plain": [
       "{'result': 2, 'method': 'low', 'dice_results': [1, 1, 6, 8], 'pool_total': 1}"
      ]
     },
     "execution_count": 15,
     "metadata": {},
     "output_type": "execute_result"
    }
   ],
   "source": [
    "dice = diceEngine()\n",
    "dice.map_att_to_dice(attribute=1, skill=0, boon=0)"
   ]
  },
  {
   "cell_type": "markdown",
   "metadata": {},
   "source": [
    "### Dice Graphs"
   ]
  },
  {
   "cell_type": "code",
   "execution_count": 16,
   "metadata": {},
   "outputs": [],
   "source": [
    "#create sample data for each dice pool\n",
    "#4d8-\n",
    "low4d8_df = pd.DataFrame([dice.map_att_to_dice(attribute=1, skill=0, boon=0) for i in range(10000)])\n",
    "\n",
    "#3d8-\n",
    "low3d8_df = pd.DataFrame([dice.map_att_to_dice(attribute=3, skill=0, boon=0) for i in range(10000)])\n",
    "\n",
    "#2d8\n",
    "norm2d8_df = pd.DataFrame([dice.map_att_to_dice(attribute=5, skill=0, boon=0) for i in range(10000)])\n",
    "\n",
    "#3d8+\n",
    "hi3d8_df = pd.DataFrame([dice.map_att_to_dice(attribute=7, skill=0, boon=0) for i in range(10000)])\n",
    "\n",
    "#4d8+\n",
    "hi4d8_df = pd.DataFrame([dice.map_att_to_dice(attribute=9, skill=0, boon=0) for i in range(10000)])\n"
   ]
  },
  {
   "cell_type": "code",
   "execution_count": 17,
   "metadata": {},
   "outputs": [
    {
     "data": {
      "text/plain": [
       "count    10000.000000\n",
       "mean         5.847200\n",
       "std          2.610849\n",
       "min          2.000000\n",
       "25%          4.000000\n",
       "50%          6.000000\n",
       "75%          8.000000\n",
       "max         16.000000\n",
       "mode         5.000000\n",
       "Name: result, dtype: float64"
      ]
     },
     "execution_count": 17,
     "metadata": {},
     "output_type": "execute_result"
    }
   ],
   "source": [
    "#roll distribution graphs for each dice pool\n",
    "#frequency tables for each result at each dice pool\n",
    "#inverse cumulative frequency table for each dice pool\n",
    "#cumulative frequency table for each dice pool\n",
    "#create combat and skill example scenarios\n",
    "low4d8_stats_df = low4d8_df['result'].describe()\n",
    "#mode\n",
    "#low4d8_stats_df = #create combat and skill example scenarios\n",
    "#mode\n",
    "low4d8_stats_df[\"mode\"] = statistics.mode(low4d8_df['result'])\n",
    "low4d8_stats_df"
   ]
  },
  {
   "cell_type": "code",
   "execution_count": 23,
   "metadata": {},
   "outputs": [
    {
     "data": {
      "text/html": [
       "<div>\n",
       "<style scoped>\n",
       "    .dataframe tbody tr th:only-of-type {\n",
       "        vertical-align: middle;\n",
       "    }\n",
       "\n",
       "    .dataframe tbody tr th {\n",
       "        vertical-align: top;\n",
       "    }\n",
       "\n",
       "    .dataframe thead th {\n",
       "        text-align: right;\n",
       "    }\n",
       "</style>\n",
       "<table border=\"1\" class=\"dataframe\">\n",
       "  <thead>\n",
       "    <tr style=\"text-align: right;\">\n",
       "      <th></th>\n",
       "      <th>4d8-</th>\n",
       "      <th>3d8-</th>\n",
       "      <th>2d8</th>\n",
       "      <th>3d8+</th>\n",
       "      <th>4d8+</th>\n",
       "    </tr>\n",
       "  </thead>\n",
       "  <tbody>\n",
       "    <tr>\n",
       "      <th>count</th>\n",
       "      <td>10000.000000</td>\n",
       "      <td>10000.00000</td>\n",
       "      <td>10000.00000</td>\n",
       "      <td>10000.000000</td>\n",
       "      <td>10000.000000</td>\n",
       "    </tr>\n",
       "    <tr>\n",
       "      <th>mean</th>\n",
       "      <td>5.847200</td>\n",
       "      <td>7.06310</td>\n",
       "      <td>9.00490</td>\n",
       "      <td>11.033100</td>\n",
       "      <td>12.208600</td>\n",
       "    </tr>\n",
       "    <tr>\n",
       "      <th>std</th>\n",
       "      <td>2.610849</td>\n",
       "      <td>2.97503</td>\n",
       "      <td>3.23251</td>\n",
       "      <td>2.941576</td>\n",
       "      <td>2.572265</td>\n",
       "    </tr>\n",
       "    <tr>\n",
       "      <th>min</th>\n",
       "      <td>2.000000</td>\n",
       "      <td>2.00000</td>\n",
       "      <td>2.00000</td>\n",
       "      <td>2.000000</td>\n",
       "      <td>2.000000</td>\n",
       "    </tr>\n",
       "    <tr>\n",
       "      <th>25%</th>\n",
       "      <td>4.000000</td>\n",
       "      <td>5.00000</td>\n",
       "      <td>7.00000</td>\n",
       "      <td>9.000000</td>\n",
       "      <td>11.000000</td>\n",
       "    </tr>\n",
       "    <tr>\n",
       "      <th>50%</th>\n",
       "      <td>6.000000</td>\n",
       "      <td>7.00000</td>\n",
       "      <td>9.00000</td>\n",
       "      <td>11.000000</td>\n",
       "      <td>13.000000</td>\n",
       "    </tr>\n",
       "    <tr>\n",
       "      <th>75%</th>\n",
       "      <td>8.000000</td>\n",
       "      <td>9.00000</td>\n",
       "      <td>11.00000</td>\n",
       "      <td>13.000000</td>\n",
       "      <td>14.000000</td>\n",
       "    </tr>\n",
       "    <tr>\n",
       "      <th>max</th>\n",
       "      <td>16.000000</td>\n",
       "      <td>16.00000</td>\n",
       "      <td>16.00000</td>\n",
       "      <td>16.000000</td>\n",
       "      <td>16.000000</td>\n",
       "    </tr>\n",
       "    <tr>\n",
       "      <th>mode</th>\n",
       "      <td>5.000000</td>\n",
       "      <td>6.00000</td>\n",
       "      <td>9.00000</td>\n",
       "      <td>12.000000</td>\n",
       "      <td>14.000000</td>\n",
       "    </tr>\n",
       "    <tr>\n",
       "      <th>median</th>\n",
       "      <td>6.000000</td>\n",
       "      <td>7.00000</td>\n",
       "      <td>9.00000</td>\n",
       "      <td>11.000000</td>\n",
       "      <td>13.000000</td>\n",
       "    </tr>\n",
       "  </tbody>\n",
       "</table>\n",
       "</div>"
      ],
      "text/plain": [
       "                4d8-         3d8-          2d8          3d8+          4d8+\n",
       "count   10000.000000  10000.00000  10000.00000  10000.000000  10000.000000\n",
       "mean        5.847200      7.06310      9.00490     11.033100     12.208600\n",
       "std         2.610849      2.97503      3.23251      2.941576      2.572265\n",
       "min         2.000000      2.00000      2.00000      2.000000      2.000000\n",
       "25%         4.000000      5.00000      7.00000      9.000000     11.000000\n",
       "50%         6.000000      7.00000      9.00000     11.000000     13.000000\n",
       "75%         8.000000      9.00000     11.00000     13.000000     14.000000\n",
       "max        16.000000     16.00000     16.00000     16.000000     16.000000\n",
       "mode        5.000000      6.00000      9.00000     12.000000     14.000000\n",
       "median      6.000000      7.00000      9.00000     11.000000     13.000000"
      ]
     },
     "execution_count": 23,
     "metadata": {},
     "output_type": "execute_result"
    }
   ],
   "source": [
    "#show how damage or success points are generated between dice distributions\n",
    "#show effect of skills on this\n",
    "#create combat and skill example scenarios\n",
    "low4d8_stats_df = low4d8_df['result'].describe()\n",
    "#add mode and median\n",
    "low4d8_stats_df[\"mode\"] = statistics.mode(low4d8_df['result'])\n",
    "low4d8_stats_df[\"median\"] = statistics.median(low4d8_df['result'])\n",
    "\n",
    "low3d8_stats_df = low3d8_df['result'].describe()\n",
    "low3d8_stats_df[\"mode\"] = statistics.mode(low3d8_df['result'])\n",
    "low3d8_stats_df[\"median\"] = statistics.median(low3d8_df['result'])\n",
    "\n",
    "norm2d8_stats_df = norm2d8_df['result'].describe()\n",
    "norm2d8_stats_df[\"mode\"] = statistics.mode(norm2d8_df['result'])\n",
    "norm2d8_stats_df[\"median\"] = statistics.median(norm2d8_df['result'])\n",
    "\n",
    "hi3d8_stats_df = hi3d8_df['result'].describe()\n",
    "hi3d8_stats_df[\"mode\"] = statistics.mode(hi3d8_df['result'])\n",
    "hi3d8_stats_df[\"median\"] = statistics.median(hi3d8_df['result'])\n",
    "\n",
    "hi4d8_stats_df = hi4d8_df['result'].describe()\n",
    "hi4d8_stats_df[\"mode\"] = statistics.mode(hi4d8_df['result'])\n",
    "hi4d8_stats_df[\"median\"] = statistics.median(hi4d8_df['result'])\n",
    "\n",
    "dice_stats_df = pd.concat([low4d8_stats_df, low3d8_stats_df, norm2d8_stats_df, \n",
    "                           hi3d8_stats_df, hi4d8_stats_df], axis=1)\n",
    "dice_stats_df.columns = [\"4d8-\", \"3d8-\", \"2d8\", \"3d8+\", \"4d8+\"]\n",
    "dice_stats_df"
   ]
  },
  {
   "cell_type": "code",
   "execution_count": 24,
   "metadata": {},
   "outputs": [
    {
     "data": {
      "text/plain": [
       "<matplotlib.axes._subplots.AxesSubplot at 0x24047e319c8>"
      ]
     },
     "execution_count": 24,
     "metadata": {},
     "output_type": "execute_result"
    },
    {
     "data": {
      "image/png": "[encoded data removed]",
      "text/plain": [
       "<Figure size 432x288 with 1 Axes>"
      ]
     },
     "metadata": {
      "needs_background": "light"
     },
     "output_type": "display_data"
    }
   ],
   "source": [
    "low3d8_df.sort_values(by=\"result\", inplace=True)\n",
    "low3d8_df['result'].plot(kind=\"hist\")"
   ]
  },
  {
   "cell_type": "code",
   "execution_count": 7,
   "metadata": {},
   "outputs": [
    {
     "data": {
      "text/plain": [
       "<matplotlib.axes._subplots.AxesSubplot at 0x24047df35c8>"
      ]
     },
     "execution_count": 7,
     "metadata": {},
     "output_type": "execute_result"
    },
    {
     "data": {
      "image/png": "[encoded data removed]",
      "text/plain": [
       "<Figure size 432x288 with 1 Axes>"
      ]
     },
     "metadata": {
      "needs_background": "light"
     },
     "output_type": "display_data"
    }
   ],
   "source": [
    "norm2d8_df['result'].plot(kind=\"hist\")"
   ]
  },
  {
   "cell_type": "code",
   "execution_count": 25,
   "metadata": {},
   "outputs": [
    {
     "data": {
      "text/plain": [
       "<matplotlib.axes._subplots.AxesSubplot at 0x24047e345c8>"
      ]
     },
     "execution_count": 25,
     "metadata": {},
     "output_type": "execute_result"
    },
    {
     "data": {
      "image/png": "[encoded data removed]",
      "text/plain": [
       "<Figure size 432x288 with 1 Axes>"
      ]
     },
     "metadata": {
      "needs_background": "light"
     },
     "output_type": "display_data"
    }
   ],
   "source": [
    "hi3d8_df['result'].plot(kind=\"hist\")"
   ]
  },
  {
   "cell_type": "code",
   "execution_count": 26,
   "metadata": {},
   "outputs": [
    {
     "data": {
      "text/plain": [
       "<matplotlib.axes._subplots.AxesSubplot at 0x24047968ac8>"
      ]
     },
     "execution_count": 26,
     "metadata": {},
     "output_type": "execute_result"
    },
    {
     "data": {
      "image/png": "[encoded data removed]",
      "text/plain": [
       "<Figure size 432x288 with 1 Axes>"
      ]
     },
     "metadata": {
      "needs_background": "light"
     },
     "output_type": "display_data"
    }
   ],
   "source": [
    "hi4d8_df['result'].plot(kind=\"hist\")"
   ]
  },
  {
   "cell_type": "code",
   "execution_count": null,
   "metadata": {},
   "outputs": [],
   "source": []
  }
 ],
 "metadata": {
  "kernelspec": {
   "display_name": "Python 3",
   "language": "python",
   "name": "python3"
  },
  "language_info": {
   "codemirror_mode": {
    "name": "ipython",
    "version": 3
   },
   "file_extension": ".py",
   "mimetype": "text/x-python",
   "name": "python",
   "nbconvert_exporter": "python",
   "pygments_lexer": "ipython3",
   "version": "3.7.6"
  }
 },
 "nbformat": 4,
 "nbformat_minor": 4
}
