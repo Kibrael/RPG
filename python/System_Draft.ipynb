{
 "cells": [
  {
   "cell_type": "code",
   "execution_count": 1,
   "metadata": {},
   "outputs": [],
   "source": [
    "import pandas as pd\n",
    "import random\n",
    "from lib.DiceEngine import diceEngine"
   ]
  },
  {
   "cell_type": "markdown",
   "metadata": {},
   "source": [
    "## Overview\n",
    "The basic components of a game system.\n",
    "\n",
    "The design is intended to use a normal or intentionally skewed normal distribution to simulate aptitude with dice. \n",
    "\n",
    "Boon mechanics are intended to give a material edge to characters with high attributes or skills.\n",
    "\n",
    "Curse mechanics are intended to give a material disadvantage to characters with low attributes, negative status effects, or using skills with which they are not proficient.\n",
    "\n"
   ]
  },
  {
   "cell_type": "markdown",
   "metadata": {},
   "source": [
    "### Attributes\n",
    "\n",
    "**Attribute and Skill Table:**\n",
    "Option 1:\n",
    "\n",
    "|Rank|Attribute Effect|Skill Effect|\n",
    "|----|----------------|------------|\n",
    "|0|Curse|-1|\n",
    "|1|4d8 Low 2|Boon|\n",
    "|2|Curse|-1|\n",
    "|3|3d8 Low 2|Boon|\n",
    "|4|Curse|-1|\n",
    "|5|2d8|Boon|\n",
    "|6|Boon|+1|\n",
    "|7|3d8 High 2|Boon|\n",
    "|8|Boon|+1|\n",
    "|9|4d8 High 2|Boon|\n",
    "|10|Boon|+1|\n",
    "\n",
    "\n",
    "Attributes are split into mental and physical sub categories. \n",
    "\n",
    "Each attribute governs a set of skills. In some cases multiple attributes may be averaged to match to certain skills.  \n",
    "\n",
    "Attributes grant a boon at each point above normal that does not have a dice pool change.  \n",
    "Attributes give a curse at each point below normal that does not have a dice pool change.  \n",
    "\n",
    "**Initial Attributes:**  \n",
    "- Athletic: coordination, agility, flexibility\n",
    "- Social: charisma, oration, interrogation, persuasion\n",
    "- Martial: skill in the arts of war, mental and physical.\n",
    "- Fortitude: Durability, resistence, and endurance. Mental and physical health.\n",
    "- Magic: Determines strength of a characters ability to manipulate forces.\n",
    "- Luck: Determines max hand size for boons, draw rate, boon effectiveness.\n",
    "\n",
    "**Attribute Boons and Curses**\n",
    "High attributes grant boons while low attributes bestow curses.\n",
    "\n",
    "\n",
    "\n"
   ]
  },
  {
   "cell_type": "markdown",
   "metadata": {},
   "source": [
    "### Skills\n",
    "As characters advance in skill ranks they acquire boons and modifiers to dice rolls.  \n",
    "Boons acquired through skill development are known and can be used if the character can play boons.  \n",
    "\n",
    "|Skill Rank|Heuristic|Bonus|\n",
    "|----------|---------|-----|\n",
    "|0|Untrainted|-1|\n",
    "|1|Novice||\n",
    "|2||-1|\n",
    "|3|||\n",
    "|4||-1|\n",
    "|5|Adept||\n",
    "|6||+1|\n",
    "|7|||\n",
    "|8||+1|\n",
    "|9|||\n",
    "|10|Master|+1|\n",
    "\n",
    "*Note: some settings or contexts may have higher or lower possible skill ranks*  \n",
    "\n",
    "Options:  \n",
    "- Every rank gives a +1 (or other) bonus on rolls involving that skill\n",
    "- Every non-boon granting rank gives a +1 on rols with the skill\n",
    "- Every rank unlocks a boon\n",
    "- Every non-roll related rank gives a boon.\n",
    "\n",
    "Skills relate to either the mental or physical aspect of an attribute depending on how it is being used, final decision is with the game master.\n",
    "\n",
    "**Skill Specializations:**  \n",
    "Represented through the boons chosen. A boon can be chosen for a subskill such as `spotting` within `stalking`.\n",
    "\n",
    "**Skill Boon Types:**\n",
    "- Generic: can be chosen without skill requirement.\n",
    "- Skill specific: chosen from a list of boons relating to a skill. Have effects relating to the skill.\n",
    "- Cross: boons that link other boon or skill effects\n"
   ]
  },
  {
   "cell_type": "markdown",
   "metadata": {},
   "source": [
    "### Skill and Sub-Skill List\n",
    "- Alchemy\n",
    "- Archery\n",
    "    - Crossbows\n",
    "    - Longbows\n",
    "    - Recurves\n",
    "- Command\n",
    "- Craft: Armor, Hand Weapons, Firearms, Bows\n",
    "- Engineering\n",
    "- Flight: unpowered, small craft, large craft\n",
    "- Knowledge: history, folklore\n",
    "- Metallurgy\n",
    "- Mechanics\n",
    "- Navigation\n",
    "- Animalry\n",
    "- Ritual\n",
    "- Stalking\n",
    "- Welding\n"
   ]
  },
  {
   "cell_type": "markdown",
   "metadata": {},
   "source": [
    "### Dice Mechanics\n",
    "Dice used in skill and attribut tests are d8s pools.\n",
    "\n",
    "**Main Pools:**  \n",
    "- 4d8 highest 2  \n",
    "- 3d8 highest 2  \n",
    "- 2d8 total  \n",
    "- 3d8 lowest 2  \n",
    "- 4d8 lowest 2  \n",
    "\n",
    "*Note: Additional pools may be available depending on specific setting*\n",
    "\n",
    "Options for dice pool determination:\n",
    "- Dice pool is determined by attribute rank\n",
    "    - Random chance is based entirely on attribute and modified by skill ranks, boons, and curses.\n",
    "- Dice pools are determined by a combination of skill and attribute ranks\n",
    "    - This shits emphasis from natural ability to training\n",
    "    - option: if skills are used to influence dice pool then use the sum of skills goverened by the attribute to create dice pool outcome.\n",
    "\n",
    "    \n",
    "Options for attribute determination:\n",
    "- Roll some pool of dice and relate it back to the 1-5 attribute rank\n",
    "- Point buy with different points for different power levels\n",
    "- "
   ]
  },
  {
   "cell_type": "markdown",
   "metadata": {},
   "source": [
    "### Boons and Curses\n",
    "Boons and curses resolve on a first in first out stack.\n",
    "Boons are played after dice are rolled (if desired)\n",
    "Boons are represented by a deck of cards showing each boon a character has available for use.\n",
    "Deck refresh rate, hand size, draw amount, boon effectiveness are all modified by the luck stat.\n",
    "Some boons are only available with access to more than one skill.\n",
    "\n",
    "Boon refresh events and powers\n",
    "- boon to refresh boons?\n",
    "- intentional break points players can use to refresh?\n",
    "- hard set game type events?\n",
    "- done by story?\n",
    "\n",
    "Curse Deck:\n",
    "- Run by game master?\n",
    "- Require use of curses by players?\n",
    "- Mix curses into boon deck when drawing? Require playing of curses before hand refresh? IE cannot refresh hand if curses present?\n"
   ]
  },
  {
   "cell_type": "markdown",
   "metadata": {},
   "source": [
    "### Combat\n",
    "actions per round/segment\n",
    "- physical\n",
    "- mental\n",
    "- magical\n",
    "\n",
    "Initiative/speed\n",
    "- physical\n",
    "- mental\n",
    "- magical\n",
    "\n",
    "maneuvers, attack options, defense options\n",
    "- physical\n",
    "- mental\n",
    "- magical\n",
    "\n",
    "resisting effects\n",
    "- physical\n",
    "- mental\n",
    "- magical\n",
    "\n",
    "magic\n",
    "- physical\n",
    "- mental\n",
    "- magical\n",
    "\n",
    "Damage: \n",
    "- Options: \n",
    "    - Difference from attack skill test. Puts higher emphasis on ability and reduces random chance impact in combat.\n",
    "    \n",
    "Movement  \n",
    "  \n",
    "  \n",
    "### Magic\n",
    "Based in skill in different magical areas broken out into skills.\n",
    "Skill and boon choices are used to create magical specialization.\n",
    "- Create combinations of skills and boons that emphasize the magical paradigm.\n",
    "    \n",
    "Casting spells:\n",
    "- skill check with relevant dice and skill ranks\n",
    "- Resist fatigue with a fortitude roll\n",
    "\n",
    "\n",
    "### Advancement\n",
    "Point buy system with templates for classic class advancement.\n",
    "\n",
    "To advance health points or mental points buy increases and roll Fortitude for each.\n",
    "\n",
    "\n"
   ]
  },
  {
   "cell_type": "markdown",
   "metadata": {},
   "source": [
    "### Boon List"
   ]
  },
  {
   "cell_type": "markdown",
   "metadata": {},
   "source": []
  },
  {
   "cell_type": "markdown",
   "metadata": {},
   "source": [
    "### Monmocht Morchti\n",
    "- Dreams of violence\n",
    "- Highlights violence and fear in stories and mythis\n",
    "- Guides fantasy and belief to the apocalyptic\n",
    "- Pushes to cataclysm to create dramatic cycles\n",
    "- Feeds off the churning energy from growth and collapse of civilization and structured beliefs\n",
    "A setting attribute representing the degree of corruption by the Monmocht Morchti. This can bring powers, but always brings curses and the manipulation of the power of belief to serve the Monmocht Morchti.\n",
    "\n",
    "Increases to this attribute happen during play. Decreases may be possible depending on context, but are extremely rare.\n",
    "\n",
    "Higher corruption unlocks more powerful boons. "
   ]
  },
  {
   "cell_type": "code",
   "execution_count": 2,
   "metadata": {},
   "outputs": [],
   "source": [
    "### Dice Graphs"
   ]
  },
  {
   "cell_type": "code",
   "execution_count": 3,
   "metadata": {},
   "outputs": [],
   "source": [
    "#show how damage or success poitns are generated between dice distributions\n",
    "#show effect of skills on this\n",
    "#create combat and skill example scenarios\n"
   ]
  },
  {
   "cell_type": "code",
   "execution_count": 4,
   "metadata": {},
   "outputs": [
    {
     "name": "stdout",
     "output_type": "stream",
     "text": [
      "Hero\n",
      "Hero\n"
     ]
    },
    {
     "data": {
      "text/plain": [
       "{'result': 14, 'method': 'high', 'dice_results': [7, 7, 3, 1], 'pool_total': 9}"
      ]
     },
     "execution_count": 4,
     "metadata": {},
     "output_type": "execute_result"
    }
   ],
   "source": [
    "dice = diceEngine()\n",
    "dice.map_att_to_dice(attribute=9, skill=0, boon=0)"
   ]
  },
  {
   "cell_type": "code",
   "execution_count": null,
   "metadata": {},
   "outputs": [],
   "source": []
  }
 ],
 "metadata": {
  "kernelspec": {
   "display_name": "Python 3",
   "language": "python",
   "name": "python3"
  },
  "language_info": {
   "codemirror_mode": {
    "name": "ipython",
    "version": 3
   },
   "file_extension": ".py",
   "mimetype": "text/x-python",
   "name": "python",
   "nbconvert_exporter": "python",
   "pygments_lexer": "ipython3",
   "version": "3.7.6"
  }
 },
 "nbformat": 4,
 "nbformat_minor": 4
}
