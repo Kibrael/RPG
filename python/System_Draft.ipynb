{
 "cells": [
  {
   "cell_type": "code",
   "execution_count": 13,
   "metadata": {},
   "outputs": [],
   "source": [
    "import pandas as pd\n",
    "import random\n",
    "import statistics \n",
    "\n",
    "from lib.DiceEngine import diceEngine"
   ]
  },
  {
   "cell_type": "code",
   "execution_count": 2,
   "metadata": {},
   "outputs": [
    {
     "data": {
      "text/plain": [
       "{'result': 6, 'method': 'low', 'dice_results': [3, 3, 7, 7], 'pool_total': 1}"
      ]
     },
     "execution_count": 2,
     "metadata": {},
     "output_type": "execute_result"
    }
   ],
   "source": [
    "dice = diceEngine()\n",
    "dice.map_att_to_dice(attribute=1, skill=0, boon=0)"
   ]
  },
  {
   "cell_type": "markdown",
   "metadata": {},
   "source": [
    "### Dice Graphs"
   ]
  },
  {
   "cell_type": "code",
   "execution_count": 3,
   "metadata": {},
   "outputs": [],
   "source": [
    "#create sample data for each dice pool\n",
    "#4d8-\n",
    "low4d8_df = pd.DataFrame([dice.map_att_to_dice(attribute=1, skill=0, boon=0) for i in range(10000)])\n",
    "\n",
    "#3d8-\n",
    "low3d8_df = pd.DataFrame([dice.map_att_to_dice(attribute=3, skill=0, boon=0) for i in range(10000)])\n",
    "\n",
    "#2d8\n",
    "norm2d8_df = pd.DataFrame([dice.map_att_to_dice(attribute=5, skill=0, boon=0) for i in range(10000)])\n",
    "\n",
    "#3d8+\n",
    "hi3d8_df = pd.DataFrame([dice.map_att_to_dice(attribute=7, skill=0, boon=0) for i in range(10000)])\n",
    "\n",
    "#4d8+\n",
    "hi4d8_df = pd.DataFrame([dice.map_att_to_dice(attribute=9, skill=0, boon=0) for i in range(10000)])\n"
   ]
  },
  {
   "cell_type": "code",
   "execution_count": 17,
   "metadata": {},
   "outputs": [
    {
     "data": {
      "text/plain": [
       "count    10000.000000\n",
       "mean         5.807300\n",
       "std          2.580588\n",
       "min          2.000000\n",
       "25%          4.000000\n",
       "50%          5.000000\n",
       "75%          7.000000\n",
       "max         16.000000\n",
       "mode         5.000000\n",
       "Name: result, dtype: float64"
      ]
     },
     "execution_count": 17,
     "metadata": {},
     "output_type": "execute_result"
    }
   ],
   "source": [
    "#roll distribution graphs for each dice pool\n",
    "#frequency tables for each result at each dice pool\n",
    "#inverse cumulative frequency table for each dice pool\n",
    "#cumulative frequency table for each dice pool\n",
    "#create combat and skill example scenarios\n",
    "low4d8_stats_df = low4d8_df['result'].describe()\n",
    "#mode\n",
    "#low4d8_stats_df = #create combat and skill example scenarios\n",
    "#mode\n",
    "low4d8_stats_df[\"mode\"] = statistics.mode(low4d8_df['result'])\n",
    "low4d8_stats_df"
   ]
  },
  {
   "cell_type": "code",
   "execution_count": 5,
   "metadata": {},
   "outputs": [
    {
     "data": {
      "text/html": [
       "<div>\n",
       "<style scoped>\n",
       "    .dataframe tbody tr th:only-of-type {\n",
       "        vertical-align: middle;\n",
       "    }\n",
       "\n",
       "    .dataframe tbody tr th {\n",
       "        vertical-align: top;\n",
       "    }\n",
       "\n",
       "    .dataframe thead th {\n",
       "        text-align: right;\n",
       "    }\n",
       "</style>\n",
       "<table border=\"1\" class=\"dataframe\">\n",
       "  <thead>\n",
       "    <tr style=\"text-align: right;\">\n",
       "      <th></th>\n",
       "      <th>4d8-</th>\n",
       "      <th>3d8-</th>\n",
       "      <th>2d8</th>\n",
       "      <th>3d8+</th>\n",
       "      <th>4d8+</th>\n",
       "    </tr>\n",
       "  </thead>\n",
       "  <tbody>\n",
       "    <tr>\n",
       "      <th>count</th>\n",
       "      <td>10000.000000</td>\n",
       "      <td>10000.000000</td>\n",
       "      <td>10000.000000</td>\n",
       "      <td>10000.000000</td>\n",
       "      <td>10000.000000</td>\n",
       "    </tr>\n",
       "    <tr>\n",
       "      <th>mean</th>\n",
       "      <td>5.807300</td>\n",
       "      <td>7.031700</td>\n",
       "      <td>9.016400</td>\n",
       "      <td>10.940200</td>\n",
       "      <td>12.128800</td>\n",
       "    </tr>\n",
       "    <tr>\n",
       "      <th>std</th>\n",
       "      <td>2.580588</td>\n",
       "      <td>2.976438</td>\n",
       "      <td>3.243514</td>\n",
       "      <td>2.979012</td>\n",
       "      <td>2.622346</td>\n",
       "    </tr>\n",
       "    <tr>\n",
       "      <th>min</th>\n",
       "      <td>2.000000</td>\n",
       "      <td>2.000000</td>\n",
       "      <td>2.000000</td>\n",
       "      <td>2.000000</td>\n",
       "      <td>2.000000</td>\n",
       "    </tr>\n",
       "    <tr>\n",
       "      <th>25%</th>\n",
       "      <td>4.000000</td>\n",
       "      <td>5.000000</td>\n",
       "      <td>7.000000</td>\n",
       "      <td>9.000000</td>\n",
       "      <td>10.000000</td>\n",
       "    </tr>\n",
       "    <tr>\n",
       "      <th>50%</th>\n",
       "      <td>5.000000</td>\n",
       "      <td>7.000000</td>\n",
       "      <td>9.000000</td>\n",
       "      <td>11.000000</td>\n",
       "      <td>12.000000</td>\n",
       "    </tr>\n",
       "    <tr>\n",
       "      <th>75%</th>\n",
       "      <td>7.000000</td>\n",
       "      <td>9.000000</td>\n",
       "      <td>11.000000</td>\n",
       "      <td>13.000000</td>\n",
       "      <td>14.000000</td>\n",
       "    </tr>\n",
       "    <tr>\n",
       "      <th>max</th>\n",
       "      <td>16.000000</td>\n",
       "      <td>16.000000</td>\n",
       "      <td>16.000000</td>\n",
       "      <td>16.000000</td>\n",
       "      <td>16.000000</td>\n",
       "    </tr>\n",
       "  </tbody>\n",
       "</table>\n",
       "</div>"
      ],
      "text/plain": [
       "               4d8-          3d8-           2d8          3d8+          4d8+\n",
       "count  10000.000000  10000.000000  10000.000000  10000.000000  10000.000000\n",
       "mean       5.807300      7.031700      9.016400     10.940200     12.128800\n",
       "std        2.580588      2.976438      3.243514      2.979012      2.622346\n",
       "min        2.000000      2.000000      2.000000      2.000000      2.000000\n",
       "25%        4.000000      5.000000      7.000000      9.000000     10.000000\n",
       "50%        5.000000      7.000000      9.000000     11.000000     12.000000\n",
       "75%        7.000000      9.000000     11.000000     13.000000     14.000000\n",
       "max       16.000000     16.000000     16.000000     16.000000     16.000000"
      ]
     },
     "execution_count": 5,
     "metadata": {},
     "output_type": "execute_result"
    }
   ],
   "source": [
    "#show how damage or success points are generated between dice distributions\n",
    "#show effect of skills on this\n",
    "#create combat and skill example scenarios\n",
    "low4d8_stats_df = low4d8_df['result'].describe()\n",
    "#mode\n",
    "low4d8_stats_df[\"mode\"] = statistics.mode(low4d8_df['result'])\n",
    "#median\n",
    "low4d8_stats_df[\"median\"] = statistics.median(low4d8_df['result'])\n",
    "\n",
    "low3d8_stats_df = low3d8_df['result'].describe()\n",
    "low3d8_stats_df = low3d8_df['result']\n",
    "norm2d8_stats_df = norm2d8_df['result'].describe()\n",
    "hi3d8_stats_df = hi3d8_df['result'].describe()\n",
    "hi4d8_stats_df = hi4d8_df['result'].describe()\n",
    "dice_stats_df = pd.concat([low4d8_stats_df, low3d8_stats_df, norm2d8_stats_df, \n",
    "                           hi3d8_stats_df, hi4d8_stats_df], axis=1)\n",
    "dice_stats_df.columns = [\"4d8-\", \"3d8-\", \"2d8\", \"3d8+\", \"4d8+\"]\n",
    "dice_stats_df"
   ]
  },
  {
   "cell_type": "code",
   "execution_count": 6,
   "metadata": {
    "scrolled": true
   },
   "outputs": [
    {
     "data": {
      "text/plain": [
       "count    10000.000000\n",
       "mean         5.807300\n",
       "std          2.580588\n",
       "min          2.000000\n",
       "25%          4.000000\n",
       "50%          5.000000\n",
       "75%          7.000000\n",
       "max         16.000000\n",
       "Name: result, dtype: float64"
      ]
     },
     "execution_count": 6,
     "metadata": {},
     "output_type": "execute_result"
    }
   ],
   "source": [
    "low4d8_stats_df"
   ]
  },
  {
   "cell_type": "code",
   "execution_count": 9,
   "metadata": {},
   "outputs": [
    {
     "data": {
      "text/plain": [
       "<matplotlib.axes._subplots.AxesSubplot at 0x1eebd7bd248>"
      ]
     },
     "execution_count": 9,
     "metadata": {},
     "output_type": "execute_result"
    },
    {
     "data": {
      "image/png": "[encoded data removed]",
      "text/plain": [
       "<Figure size 432x288 with 1 Axes>"
      ]
     },
     "metadata": {
      "needs_background": "light"
     },
     "output_type": "display_data"
    }
   ],
   "source": [
    "low3d8_df.sort_values(by=\"result\", inplace=True)\n",
    "low3d8_df['result'].plot(kind=\"hist\")"
   ]
  },
  {
   "cell_type": "code",
   "execution_count": 11,
   "metadata": {},
   "outputs": [
    {
     "data": {
      "text/plain": [
       "<matplotlib.axes._subplots.AxesSubplot at 0x1eebd8dce48>"
      ]
     },
     "execution_count": 11,
     "metadata": {},
     "output_type": "execute_result"
    },
    {
     "data": {
      "image/png": "[encoded data removed]",
      "text/plain": [
       "<Figure size 432x288 with 1 Axes>"
      ]
     },
     "metadata": {
      "needs_background": "light"
     },
     "output_type": "display_data"
    }
   ],
   "source": [
    "norm2d8_df['result'].plot(kind=\"hist\")"
   ]
  },
  {
   "cell_type": "code",
   "execution_count": null,
   "metadata": {},
   "outputs": [],
   "source": []
  }
 ],
 "metadata": {
  "kernelspec": {
   "display_name": "Python 3",
   "language": "python",
   "name": "python3"
  },
  "language_info": {
   "codemirror_mode": {
    "name": "ipython",
    "version": 3
   },
   "file_extension": ".py",
   "mimetype": "text/x-python",
   "name": "python",
   "nbconvert_exporter": "python",
   "pygments_lexer": "ipython3",
   "version": "3.7.6"
  }
 },
 "nbformat": 4,
 "nbformat_minor": 4
}
